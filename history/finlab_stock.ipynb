{
 "cells": [
  {
   "cell_type": "code",
   "execution_count": 2,
   "id": "22d6a628-7f87-4289-9a59-daee0fe45cd7",
   "metadata": {},
   "outputs": [
    {
     "name": "stdout",
     "output_type": "stream",
     "text": [
      "Collecting finlab\n",
      "  Downloading finlab-0.4.2-cp39-cp39-macosx_10_9_universal2.whl (779 kB)\n",
      "\u001b[K     |████████████████████████████████| 779 kB 113 kB/s eta 0:00:01\n",
      "\u001b[?25hRequirement already satisfied: pandas>=1.0.3 in /Users/caibinghong/opt/anaconda3/lib/python3.9/site-packages (from finlab) (1.3.4)\n",
      "Collecting pyarrow>=2.0.0\n",
      "  Downloading pyarrow-11.0.0-cp39-cp39-macosx_10_14_x86_64.whl (24.5 MB)\n",
      "\u001b[K     |████████████████████████████████| 24.5 MB 126 kB/s eta 0:00:01\n",
      "\u001b[?25hRequirement already satisfied: Cython in /Users/caibinghong/opt/anaconda3/lib/python3.9/site-packages (from finlab) (0.29.24)\n",
      "Requirement already satisfied: requests in /Users/caibinghong/opt/anaconda3/lib/python3.9/site-packages (from finlab) (2.26.0)\n",
      "Collecting lz4\n",
      "  Downloading lz4-4.3.2-cp39-cp39-macosx_10_9_x86_64.whl (254 kB)\n",
      "\u001b[K     |████████████████████████████████| 254 kB 277 kB/s eta 0:00:01\n",
      "\u001b[?25hRequirement already satisfied: tqdm in /Users/caibinghong/opt/anaconda3/lib/python3.9/site-packages (from finlab) (4.62.3)\n",
      "Collecting numpy>=1.21.6\n",
      "  Downloading numpy-1.24.3-cp39-cp39-macosx_10_9_x86_64.whl (19.8 MB)\n",
      "\u001b[K     |████████████████████████████████| 19.8 MB 638 kB/s eta 0:00:01\n",
      "\u001b[?25hRequirement already satisfied: jinja2 in /Users/caibinghong/opt/anaconda3/lib/python3.9/site-packages (from finlab) (2.11.3)\n",
      "Requirement already satisfied: python-dateutil>=2.7.3 in /Users/caibinghong/opt/anaconda3/lib/python3.9/site-packages (from pandas>=1.0.3->finlab) (2.8.2)\n",
      "Requirement already satisfied: pytz>=2017.3 in /Users/caibinghong/opt/anaconda3/lib/python3.9/site-packages (from pandas>=1.0.3->finlab) (2021.3)\n",
      "Requirement already satisfied: six>=1.5 in /Users/caibinghong/opt/anaconda3/lib/python3.9/site-packages (from python-dateutil>=2.7.3->pandas>=1.0.3->finlab) (1.16.0)\n",
      "Requirement already satisfied: MarkupSafe>=0.23 in /Users/caibinghong/opt/anaconda3/lib/python3.9/site-packages (from jinja2->finlab) (1.1.1)\n",
      "Requirement already satisfied: idna<4,>=2.5 in /Users/caibinghong/opt/anaconda3/lib/python3.9/site-packages (from requests->finlab) (3.2)\n",
      "Requirement already satisfied: charset-normalizer~=2.0.0 in /Users/caibinghong/opt/anaconda3/lib/python3.9/site-packages (from requests->finlab) (2.0.4)\n",
      "Requirement already satisfied: urllib3<1.27,>=1.21.1 in /Users/caibinghong/opt/anaconda3/lib/python3.9/site-packages (from requests->finlab) (1.26.7)\n",
      "Requirement already satisfied: certifi>=2017.4.17 in /Users/caibinghong/opt/anaconda3/lib/python3.9/site-packages (from requests->finlab) (2021.10.8)\n",
      "Installing collected packages: numpy, pyarrow, lz4, finlab\n",
      "  Attempting uninstall: numpy\n",
      "    Found existing installation: numpy 1.20.0\n",
      "    Uninstalling numpy-1.20.0:\n",
      "      Successfully uninstalled numpy-1.20.0\n",
      "\u001b[31mERROR: pip's dependency resolver does not currently take into account all the packages that are installed. This behaviour is the source of the following dependency conflicts.\n",
      "daal4py 2021.3.0 requires daal==2021.2.3, which is not installed.\n",
      "scipy 1.7.1 requires numpy<1.23.0,>=1.16.5, but you have numpy 1.24.3 which is incompatible.\n",
      "finlab-crypto 0.2.22 requires numpy==1.20.0, but you have numpy 1.24.3 which is incompatible.\u001b[0m\n",
      "Successfully installed finlab-0.4.2 lz4-4.3.2 numpy-1.24.3 pyarrow-11.0.0\n"
     ]
    }
   ],
   "source": [
    "!pip install finlab"
   ]
  },
  {
   "cell_type": "code",
   "execution_count": 5,
   "id": "9f476bd1-1eae-4e8b-9804-f52fb05613b2",
   "metadata": {},
   "outputs": [],
   "source": [
    "import finlab"
   ]
  },
  {
   "cell_type": "code",
   "execution_count": 6,
   "id": "6d9558a3-21d9-4866-a09d-03bfae57a317",
   "metadata": {},
   "outputs": [],
   "source": [
    "from finlab import data"
   ]
  },
  {
   "cell_type": "code",
   "execution_count": 14,
   "id": "f9c2ddf7-4a2c-4ec8-873c-8b8e2f52ff88",
   "metadata": {},
   "outputs": [],
   "source": [
    "x=data.get('stock_index_price:收盤指數')"
   ]
  },
  {
   "cell_type": "code",
   "execution_count": 27,
   "id": "f510b5fc-b17a-4aa8-9918-9f587540de01",
   "metadata": {},
   "outputs": [
    {
     "ename": "NameError",
     "evalue": "name 'txt' is not defined",
     "output_type": "error",
     "traceback": [
      "\u001b[0;31m---------------------------------------------------------------------------\u001b[0m",
      "\u001b[0;31mNameError\u001b[0m                                 Traceback (most recent call last)",
      "\u001b[0;32m/var/folders/3r/8xx4y7457hq9mdb1w_66qdww0000gn/T/ipykernel_14997/394850763.py\u001b[0m in \u001b[0;36m<module>\u001b[0;34m\u001b[0m\n\u001b[0;32m----> 1\u001b[0;31m \u001b[0mx\u001b[0m\u001b[0;34m.\u001b[0m\u001b[0mall\u001b[0m\u001b[0;34m>\u001b[0m\u001b[0mtxt\u001b[0m\u001b[0;34m\u001b[0m\u001b[0;34m\u001b[0m\u001b[0m\n\u001b[0m",
      "\u001b[0;31mNameError\u001b[0m: name 'txt' is not defined"
     ]
    }
   ],
   "source": [
    "x.all"
   ]
  },
  {
   "cell_type": "code",
   "execution_count": null,
   "id": "97b7217e-c2fd-4187-8ba7-addd05fe2c0b",
   "metadata": {},
   "outputs": [],
   "source": []
  }
 ],
 "metadata": {
  "kernelspec": {
   "display_name": "Python 3 (ipykernel)",
   "language": "python",
   "name": "python3"
  },
  "language_info": {
   "codemirror_mode": {
    "name": "ipython",
    "version": 3
   },
   "file_extension": ".py",
   "mimetype": "text/x-python",
   "name": "python",
   "nbconvert_exporter": "python",
   "pygments_lexer": "ipython3",
   "version": "3.9.7"
  }
 },
 "nbformat": 4,
 "nbformat_minor": 5
}
